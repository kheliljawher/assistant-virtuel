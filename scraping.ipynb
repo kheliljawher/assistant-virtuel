{
 "cells": [
  {
   "cell_type": "code",
   "execution_count": null,
   "metadata": {},
   "outputs": [],
   "source": [
    "# Web scraping, pickle imports\n",
    "import requests\n",
    "from bs4 import BeautifulSoup\n",
    "import pickle\n",
    "import re\n"
   ]
  },
  {
   "cell_type": "code",
   "execution_count": null,
   "metadata": {},
   "outputs": [],
   "source": [
    "import time\n",
    " \n",
    "for page in range(1,18):\n",
    "    time.sleep(2)\n",
    "    url = 'http://www.jektis.com/index.php?cmd=hotel&nuite=3&chambre=2&page={}'.format(page)\n",
    "    print(url)"
   ]
  },
  {
   "cell_type": "code",
   "execution_count": null,
   "metadata": {},
   "outputs": [],
   "source": [
    "urls=['http://www.jektis.com/index.php?cmd=hotel&nuite=3&chambre=2&page=1',\n",
    "'http://www.jektis.com/index.php?cmd=hotel&nuite=3&chambre=2&page=2',\n",
    "'http://www.jektis.com/index.php?cmd=hotel&nuite=3&chambre=2&page=3',\n",
    "'http://www.jektis.com/index.php?cmd=hotel&nuite=3&chambre=2&page=4',\n",
    "'http://www.jektis.com/index.php?cmd=hotel&nuite=3&chambre=2&page=5',\n",
    "'http://www.jektis.com/index.php?cmd=hotel&nuite=3&chambre=2&page=6',\n",
    "'http://www.jektis.com/index.php?cmd=hotel&nuite=3&chambre=2&page=7',\n",
    "'http://www.jektis.com/index.php?cmd=hotel&nuite=3&chambre=2&page=8',\n",
    "'http://www.jektis.com/index.php?cmd=hotel&nuite=3&chambre=2&page=9',\n",
    "'http://www.jektis.com/index.php?cmd=hotel&nuite=3&chambre=2&page=10',\n",
    "'http://www.jektis.com/index.php?cmd=hotel&nuite=3&chambre=2&page=11',\n",
    "'http://www.jektis.com/index.php?cmd=hotel&nuite=3&chambre=2&page=12',\n",
    "'http://www.jektis.com/index.php?cmd=hotel&nuite=3&chambre=2&page=13',\n",
    "'http://www.jektis.com/index.php?cmd=hotel&nuite=3&chambre=2&page=14',\n",
    "'http://www.jektis.com/index.php?cmd=hotel&nuite=3&chambre=2&page=15',\n",
    "'http://www.jektis.com/index.php?cmd=hotel&nuite=3&chambre=2&page=16',\n",
    "'http://www.jektis.com/index.php?cmd=hotel&nuite=3&chambre=2&page=17']"
   ]
  },
  {
   "cell_type": "code",
   "execution_count": null,
   "metadata": {},
   "outputs": [],
   "source": [
    "def url_to_transcript(url):\n",
    "    response= requests.get(url)\n",
    "    soup = BeautifulSoup(response.content,\"html.parser\")\n",
    "\n",
    "    regex = re.compile('floatlef')\n",
    "    ville = soup.find_all('span', attrs={'class': 'ville'})\n",
    "    hotel = soup.find_all('a', attrs={'class': 'titre_listing'})\n",
    "    start=soup.find_all('span', attrs={'class': 'Stars'})\n",
    "    price=soup.find_all('span', attrs={'class': 'pricetotal'})\n",
    "    description=soup.find_all('div', attrs={'class': 'ContentBlocHotel'})\n",
    "    logement=soup.find_all('span', attrs={'class': 'logement'})\n",
    "    Ville=[]\n",
    "    Hotel=[]\n",
    "    Start=[]\n",
    "    Description=[]\n",
    "    Price=[]\n",
    "    Logement=[]\n",
    "    for x in range(len(ville)):\n",
    "        Ville.append(ville[x].text)\n",
    "        Hotel.append(hotel[x].h1.text)\n",
    "        Start.append(start[x].img)\n",
    "        Description.append(description[x].p.text)\n",
    "        Price.append(price[x].text)\n",
    "        Logement.append(logement[x].text)\n",
    "    return Ville,Hotel,Start,Description,Price,Logement\n",
    "    \n",
    "   "
   ]
  },
  {
   "cell_type": "code",
   "execution_count": null,
   "metadata": {},
   "outputs": [],
   "source": [
    "jektis = [url_to_transcript(u) for u in urls]"
   ]
  },
  {
   "cell_type": "code",
   "execution_count": null,
   "metadata": {},
   "outputs": [],
   "source": [
    "Ville=[]\n",
    "Hotel=[]\n",
    "Start=[]\n",
    "Description=[]\n",
    "Price=[]\n",
    "Logement=[]\n",
    "\n",
    "for item in jektis:\n",
    "    Ville.append(item[0])\n",
    "    Hotel.append(item[1])\n",
    "    Start.append(item[2])\n",
    "    Description.append(item[3])\n",
    "    Price.append(item[4])\n",
    "    Logement.append(item[5])"
   ]
  },
  {
   "cell_type": "code",
   "execution_count": 1,
   "metadata": {},
   "outputs": [],
   "source": [
    "def clean_text(text):\n",
    "    \n",
    "    text = re.sub(r\"\\r\\n\", \"\", text)\n",
    "    text = re.sub(r\"\\n\", \"\", text)\n",
    "    return text"
   ]
  },
  {
   "cell_type": "code",
   "execution_count": null,
   "metadata": {},
   "outputs": [],
   "source": [
    "def clean_list(coulum):\n",
    "    clean=[]\n",
    "    for x in range(len(coulum)):\n",
    "        for item in coulum[x]:\n",
    "            clean.append(item)\n",
    "            \n",
    "    return clean\n",
    "    "
   ]
  },
  {
   "cell_type": "code",
   "execution_count": null,
   "metadata": {},
   "outputs": [],
   "source": [
    "df[\"Hotel\"] = clean_hotel\n",
    "df[\"Start\"]=clean_start\n",
    "df[\"Description\"]=clean_desc\n",
    "df[\"price\"]=clean_price\n",
    "df[\"Logement\"]=clean_log"
   ]
  },
  {
   "cell_type": "code",
   "execution_count": null,
   "metadata": {},
   "outputs": [],
   "source": [
    "df.to_csv ('jektis.csv', index = False, header=True) #Don't forget to add '.csv' at the end of the path\n"
   ]
  }
 ],
 "metadata": {
  "kernelspec": {
   "display_name": "Python 3",
   "language": "python",
   "name": "python3"
  },
  "language_info": {
   "codemirror_mode": {
    "name": "ipython",
    "version": 3
   },
   "file_extension": ".py",
   "mimetype": "text/x-python",
   "name": "python",
   "nbconvert_exporter": "python",
   "pygments_lexer": "ipython3",
   "version": "3.7.0"
  }
 },
 "nbformat": 4,
 "nbformat_minor": 2
}

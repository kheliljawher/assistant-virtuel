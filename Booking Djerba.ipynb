{
 "cells": [
  {
   "cell_type": "markdown",
   "metadata": {},
   "source": [
    "# Booking Djerba"
   ]
  },
  {
   "cell_type": "code",
   "execution_count": 1,
   "metadata": {},
   "outputs": [],
   "source": [
    "# Web scraping, pickle imports\n",
    "import requests\n",
    "from bs4 import BeautifulSoup\n",
    "import pickle\n",
    "import re\n"
   ]
  },
  {
   "cell_type": "code",
   "execution_count": null,
   "metadata": {},
   "outputs": [],
   "source": [
    "https://www.booking.com/hotel/tn/mehari-djerba...\n"
   ]
  },
  {
   "cell_type": "code",
   "execution_count": 3,
   "metadata": {},
   "outputs": [],
   "source": [
    "urlDjerba=['https://www.booking.com/searchresults.fr.html?label=gen173nr-1FCAEoggI46AdIM1gEaOIBiAEBmAENuAEXyAEM2AEB6AEB-AELiAIBqAIDuAK_vL7zBcACAQ&sid=5a7f5b6c02fd8206bf3197598e875367&sb=1&sb_lp=1&src=index&src_elem=sb&error_url=https%3A%2F%2Fwww.booking.com%2Findex.fr.html%3Flabel%3Dgen173nr-1FCAEoggI46AdIM1gEaOIBiAEBmAENuAEXyAEM2AEB6AEB-AELiAIBqAIDuAK_vL7zBcACAQ%3Bsid%3D5a7f5b6c02fd8206bf3197598e875367%3Bsb_price_type%3Dtotal%26%3B&ss=Djerba%2C+Tunisie&is_ski_area=&checkin_year=&checkin_month=&checkout_year=&checkout_month=&group_adults=2&group_children=0&no_rooms=1&b_h4u_keep_filters=&from_sf=1&ss_raw=jerba&ac_position=1&ac_langcode=fr&ac_click_type=b&dest_id=3593&dest_type=region&place_id_lat=33.830608&place_id_lon=10.956467&search_pageview_id=58046e5f97220130&search_selected=true&region_type=island&search_pageview_id=58046e5f97220130&ac_suggestion_list_length=5&ac_suggestion_theme_list_length=0',\n",
    "'https://www.booking.com/searchresults.fr.html?label=gen173nr-1FCAEoggI46AdIM1gEaOIBiAEBmAENuAEXyAEM2AEB6AEB-AELiAIBqAIDuAK_vL7zBcACAQ&sid=5a7f5b6c02fd8206bf3197598e875367&tmpl=searchresults&ac_click_type=b&ac_position=1&class_interval=1&dest_id=3593&dest_type=region&dtdisc=0&from_sf=1&group_adults=2&group_children=0&inac=0&index_postcard=0&label_click=undef&no_rooms=1&postcard=0&raw_dest_type=region&room1=A%2CA&sb_price_type=total&search_selected=1&shw_aparth=1&slp_r_match=0&src=index&src_elem=sb&srpvid=711e6e68c21a0030&ss=Djerba%2C%20Tunisie&ss_all=0&ss_raw=jerba&ssb=empty&sshis=0&top_ufis=1&rows=25&offset=25',\n",
    "'https://www.booking.com/searchresults.fr.html?aid=304142&label=gen173nr-1FCAEoggI46AdIM1gEaOIBiAEBmAENuAEXyAEM2AEB6AEB-AELiAIBqAIDuAK_vL7zBcACAQ&sid=5a7f5b6c02fd8206bf3197598e875367&tmpl=searchresults&ac_click_type=b&ac_position=1&class_interval=1&dest_id=3593&dest_type=region&from_sf=1&group_adults=2&group_children=0&label_click=undef&no_rooms=1&raw_dest_type=region&room1=A%2CA&sb_price_type=total&search_selected=1&shw_aparth=1&slp_r_match=0&src=index&src_elem=sb&srpvid=2a6b6e9a91b60186&ss=Djerba%2C%20Tunisie&ss_raw=jerba&ssb=empty&top_ufis=1&rows=25&offset=50',\n",
    "'https://www.booking.com/searchresults.fr.html?aid=304142&label=gen173nr-1FCAEoggI46AdIM1gEaOIBiAEBmAENuAEXyAEM2AEB6AEB-AELiAIBqAIDuAK_vL7zBcACAQ&sid=5a7f5b6c02fd8206bf3197598e875367&tmpl=searchresults&ac_click_type=b&ac_position=1&class_interval=1&dest_id=3593&dest_type=region&dtdisc=0&from_sf=1&group_adults=2&group_children=0&inac=0&index_postcard=0&label_click=undef&no_rooms=1&postcard=0&raw_dest_type=region&room1=A%2CA&sb_price_type=total&search_selected=1&shw_aparth=1&slp_r_match=0&src=index&src_elem=sb&srpvid=2a6b6ea6c427002d&ss=Djerba%2C%20Tunisie&ss_all=0&ss_raw=jerba&ssb=empty&sshis=0&top_ufis=1&rows=25&offset=75',\n",
    "'https://www.booking.com/searchresults.fr.html?aid=304142&label=gen173nr-1FCAEoggI46AdIM1gEaOIBiAEBmAENuAEXyAEM2AEB6AEB-AELiAIBqAIDuAK_vL7zBcACAQ&sid=5a7f5b6c02fd8206bf3197598e875367&tmpl=searchresults&ac_click_type=b&ac_position=1&class_interval=1&dest_id=3593&dest_type=region&from_sf=1&group_adults=2&group_children=0&label_click=undef&no_rooms=1&raw_dest_type=region&room1=A%2CA&sb_price_type=total&search_selected=1&shw_aparth=1&slp_r_match=0&src=index&src_elem=sb&srpvid=8d516eb7aa5c00ac&ss=Djerba%2C%20Tunisie&ss_raw=jerba&ssb=empty&top_ufis=1&rows=25&offset=100',\n",
    "'https://www.booking.com/searchresults.fr.html?aid=304142&label=gen173nr-1FCAEoggI46AdIM1gEaOIBiAEBmAENuAEXyAEM2AEB6AEB-AELiAIBqAIDuAK_vL7zBcACAQ&sid=5a7f5b6c02fd8206bf3197598e875367&tmpl=searchresults&ac_click_type=b&ac_position=1&class_interval=1&dest_id=3593&dest_type=region&dtdisc=0&from_sf=1&group_adults=2&group_children=0&inac=0&index_postcard=0&label_click=undef&no_rooms=1&postcard=0&raw_dest_type=region&room1=A%2CA&sb_price_type=total&search_selected=1&shw_aparth=1&slp_r_match=0&src=index&src_elem=sb&srpvid=23da6ec22a500130&ss=Djerba%2C%20Tunisie&ss_all=0&ss_raw=jerba&ssb=empty&sshis=0&top_ufis=1&rows=25&offset=125',\n",
    "'https://www.booking.com/searchresults.fr.html?aid=304142&label=gen173nr-1FCAEoggI46AdIM1gEaOIBiAEBmAENuAEXyAEM2AEB6AEB-AELiAIBqAIDuAK_vL7zBcACAQ&sid=5a7f5b6c02fd8206bf3197598e875367&tmpl=searchresults&ac_click_type=b&ac_position=1&class_interval=1&dest_id=3593&dest_type=region&from_sf=1&group_adults=2&group_children=0&label_click=undef&no_rooms=1&raw_dest_type=region&room1=A%2CA&sb_price_type=total&search_selected=1&shw_aparth=1&slp_r_match=0&src=index&src_elem=sb&srpvid=23da6eca4fc700c3&ss=Djerba%2C%20Tunisie&ss_raw=jerba&ssb=empty&top_ufis=1&rows=25&offset=150']"
   ]
  },
  {
   "cell_type": "code",
   "execution_count": 4,
   "metadata": {},
   "outputs": [],
   "source": [
    "def url_to_transcript(url):\n",
    "    response= requests.get(url)\n",
    "    soup = BeautifulSoup(response.content,\"html.parser\")\n",
    "\n",
    "    regex = re.compile('floatlef')\n",
    "    hotel_name=soup.find_all('span',attrs={'class': 'sr-hotel__name'})  \n",
    "    hotel_adress=soup.find_all('a',attrs={'class': 'bui-link'})  \n",
    "    #distance=soup.find_all('span',attrs={'data-bui-component': 'Tooltip'})\n",
    "    hotel_desc=soup.find_all('div',attrs={'class': 'hotel_desc'})\n",
    "    detail=soup.find_all('a',attrs={'class': 'hotel_name_link url'})\n",
    "        \n",
    "    return hotel_name,hotel_adress,hotel_desc,detail"
   ]
  },
  {
   "cell_type": "code",
   "execution_count": 5,
   "metadata": {},
   "outputs": [],
   "source": [
    "booking = [url_to_transcript(u) for u in urlDjerba]\n"
   ]
  },
  {
   "cell_type": "code",
   "execution_count": 48,
   "metadata": {},
   "outputs": [],
   "source": [
    "hotel_name=[]\n",
    "hotel_adress=[]\n",
    "hotel_desc=[]\n",
    "details=[]\n",
    "for item in booking:\n",
    "    hotel_name.append(item[0])\n",
    "    hotel_adress.append(item[1])\n",
    "    hotel_desc.append(item[2])\n",
    "    details.append(item[3])\n",
    "\n",
    "    "
   ]
  },
  {
   "cell_type": "code",
   "execution_count": 21,
   "metadata": {},
   "outputs": [
    {
     "data": {
      "text/plain": [
       "'\\n/hotel/tn/mehari-djerba.fr.html\\n'"
      ]
     },
     "execution_count": 21,
     "metadata": {},
     "output_type": "execute_result"
    }
   ],
   "source": [
    "details[0][0]['href']"
   ]
  },
  {
   "cell_type": "code",
   "execution_count": 27,
   "metadata": {},
   "outputs": [
    {
     "data": {
      "text/plain": [
       "7"
      ]
     },
     "execution_count": 27,
     "metadata": {},
     "output_type": "execute_result"
    }
   ],
   "source": [
    "len(details)"
   ]
  },
  {
   "cell_type": "code",
   "execution_count": null,
   "metadata": {},
   "outputs": [],
   "source": []
  },
  {
   "cell_type": "code",
   "execution_count": 49,
   "metadata": {},
   "outputs": [],
   "source": [
    "\n",
    "    \n",
    "x=len(hotel_name[0])+4\n",
    "hotel_name=hotel_name[0]+hotel_name[1]+hotel_name[2]+hotel_name[3]+hotel_name[4]+hotel_name[5]+hotel_name[6]\n",
    "hotel_adress=hotel_adress[0][4:x]+hotel_adress[1][4:x]+hotel_adress[2][4:x]+hotel_adress[3][4:x]+hotel_adress[4][4:x]+hotel_adress[5][4:x]+hotel_adress[6][4:24]\n",
    "hotel_desc=hotel_desc[0]+hotel_desc[1]+hotel_desc[2]+hotel_desc[3]+hotel_desc[4]+hotel_desc[5]+hotel_desc[6]\n",
    "details=details[0]+details[1]+details[2]+details[3]+details[4]+details[5]+details[6]"
   ]
  },
  {
   "cell_type": "code",
   "execution_count": 50,
   "metadata": {},
   "outputs": [
    {
     "data": {
      "text/plain": [
       "170"
      ]
     },
     "execution_count": 50,
     "metadata": {},
     "output_type": "execute_result"
    }
   ],
   "source": [
    "len(hotel_adress)"
   ]
  },
  {
   "cell_type": "code",
   "execution_count": 51,
   "metadata": {},
   "outputs": [],
   "source": [
    "Hotel_name=[]\n",
    "Hotel_adress=[]\n",
    "Description=[]\n",
    "Details=[]   \n",
    "for x in range(len(hotel_name)):\n",
    "    Hotel_name.append(hotel_name[x].text)\n",
    "    Hotel_adress.append(hotel_adress[x].text)\n",
    "   \n",
    "    Description.append(hotel_desc[x].text)\n",
    "    Details.append('https://www.booking.com'+details[x]['href'])\n",
    "        #Rating.append(rating[x].text)"
   ]
  },
  {
   "cell_type": "code",
   "execution_count": 82,
   "metadata": {},
   "outputs": [],
   "source": [
    "def clean_text(text):\n",
    "    \n",
    "    text = re.sub(r\"\\n\", \"\", text) \n",
    "    text = re.sub(r\"\\n\\n\\n\", \" \", text) \n",
    "    text = re.sub(r\"Indiquer sur la carte \", \"\", text) \n",
    "\n",
    "    \n",
    "    \n",
    "    return text"
   ]
  },
  {
   "cell_type": "code",
   "execution_count": 83,
   "metadata": {},
   "outputs": [],
   "source": [
    "def clean_list(coulum):\n",
    "    clean=[]\n",
    "    for item in coulum:\n",
    "        clean.append(clean_text(item))\n",
    "            \n",
    "    return clean"
   ]
  },
  {
   "cell_type": "code",
   "execution_count": 84,
   "metadata": {},
   "outputs": [],
   "source": [
    "clean_Details=clean_list(Details)\n"
   ]
  },
  {
   "cell_type": "code",
   "execution_count": 79,
   "metadata": {},
   "outputs": [],
   "source": [
    "clean_hotel=clean_list(Hotel_name)\n",
    "clean_adress=clean_list(Hotel_adress)\n",
    "clean_Description=clean_list(Description)\n",
    "\n",
    "\n"
   ]
  },
  {
   "cell_type": "code",
   "execution_count": 90,
   "metadata": {},
   "outputs": [],
   "source": [
    "import pandas as pd\n",
    "BookingDjerba = pd.DataFrame(clean_hotel,columns=['Hotel_name']) \n",
    "BookingDjerba[\"Adresse\"]=clean_adress\n",
    "BookingDjerba[\"Description\"]=clean_Description\n",
    "BookingDjerba[\"Distance\"]=\"\"\n",
    "BookingDjerba[\"Details_Link\"]=clean_Details\n",
    "\n",
    "BookingDjerba.to_csv ('BookingDjerba.csv', index = False, header=True) #Don't forget to add '.csv' at the end of the path\n"
   ]
  },
  {
   "cell_type": "code",
   "execution_count": 68,
   "metadata": {},
   "outputs": [
    {
     "data": {
      "text/plain": [
       "'https://www.booking.com /hotel/tn/mehari-djerba.fr.html '"
      ]
     },
     "execution_count": 68,
     "metadata": {},
     "output_type": "execute_result"
    }
   ],
   "source": [
    "BookingDjerba['Details'][0]"
   ]
  },
  {
   "cell_type": "code",
   "execution_count": 70,
   "metadata": {},
   "outputs": [
    {
     "data": {
      "text/plain": [
       "'https://www.booking.com /hotel/tn/mehari-djerba.fr.html '"
      ]
     },
     "execution_count": 70,
     "metadata": {},
     "output_type": "execute_result"
    }
   ],
   "source": [
    "BookingDjerba['Details'][0]"
   ]
  },
  {
   "cell_type": "code",
   "execution_count": 92,
   "metadata": {},
   "outputs": [
    {
     "data": {
      "text/plain": [
       "170"
      ]
     },
     "execution_count": 92,
     "metadata": {},
     "output_type": "execute_result"
    }
   ],
   "source": [
    "len(BookingDjerba['Details_Link'])"
   ]
  }
 ],
 "metadata": {
  "kernelspec": {
   "display_name": "Python 3",
   "language": "python",
   "name": "python3"
  },
  "language_info": {
   "codemirror_mode": {
    "name": "ipython",
    "version": 3
   },
   "file_extension": ".py",
   "mimetype": "text/x-python",
   "name": "python",
   "nbconvert_exporter": "python",
   "pygments_lexer": "ipython3",
   "version": "3.7.0"
  }
 },
 "nbformat": 4,
 "nbformat_minor": 2
}
